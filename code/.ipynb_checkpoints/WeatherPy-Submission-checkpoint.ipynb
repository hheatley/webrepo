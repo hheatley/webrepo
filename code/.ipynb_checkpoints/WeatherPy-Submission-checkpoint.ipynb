{
 "cells": [
  {
   "cell_type": "markdown",
   "metadata": {},
   "source": [
    "# WeatherPy\n",
    "----\n",
    "\n",
    "#### Note\n",
    "* Instructions have been included for each segment. You do not have to follow them exactly, but they are included to help you think through the steps."
   ]
  },
  {
   "cell_type": "code",
   "execution_count": 17,
   "metadata": {
    "scrolled": true
   },
   "outputs": [],
   "source": [
    "# Dependencies and Setup\n",
    "import matplotlib.pyplot as plt\n",
    "import pandas as pd\n",
    "import numpy as np\n",
    "import requests\n",
    "import time\n",
    "import csv\n",
    "import datetime\n",
    "\n",
    "# Import API key\n",
    "from api_keys import api_key\n",
    "\n",
    "# Incorporated citipy to determine city based on latitude and longitude\n",
    "from citipy import citipy\n",
    "\n",
    "# Output File (CSV)\n",
    "output_data_file = \"output_data/cities.csv\"\n",
    "\n",
    "# Range of latitudes and longitudes\n",
    "lat_range = (-90, 90)\n",
    "lng_range = (-180, 180)"
   ]
  },
  {
   "cell_type": "markdown",
   "metadata": {},
   "source": [
    "## Generate Cities List"
   ]
  },
  {
   "cell_type": "code",
   "execution_count": 18,
   "metadata": {},
   "outputs": [
    {
     "name": "stdout",
     "output_type": "stream",
     "text": [
      "['City', 'WORLD_CITIES_DICT', '__builtins__', '__cached__', '__doc__', '__file__', '__loader__', '__name__', '__package__', '__spec__', '_current_dir', '_current_filename', '_world_cities_csv_path', '_world_cities_kdtree', 'c', 'cities', 'city', 'city_coordinate_key', 'csv', 'csv_file', 'kdtree', 'nearest_city', 'os']\n"
     ]
    }
   ],
   "source": [
    "#ascertain what elements are in citipy library\n",
    "print(dir(citipy))"
   ]
  },
  {
   "cell_type": "code",
   "execution_count": 19,
   "metadata": {},
   "outputs": [
    {
     "data": {
      "text/plain": [
       "617"
      ]
     },
     "execution_count": 19,
     "metadata": {},
     "output_type": "execute_result"
    }
   ],
   "source": [
    "# List for holding lat_lngs and cities\n",
    "lat_lngs = []\n",
    "cities = []\n",
    "\n",
    "# Create a set of random lat and lng combinations\n",
    "lats = np.random.uniform(low=-90.000, high=90.000, size=1500)\n",
    "lngs = np.random.uniform(low=-180.000, high=180.000, size=1500)\n",
    "lat_lngs = zip(lats, lngs)\n",
    "\n",
    "# Identify nearest city for each lat, lng combination (citipy-specific functions)\n",
    "for lat_lng in lat_lngs:\n",
    "    city = citipy.nearest_city(lat_lng[0], lat_lng[1]).city_name\n",
    "    # If the city is unique, then add it to a our cities list\n",
    "    if city not in cities:\n",
    "        cities.append(city)\n",
    "\n",
    "# Print the city count to confirm sufficient count\n",
    "len(cities)"
   ]
  },
  {
   "cell_type": "markdown",
   "metadata": {},
   "source": [
    "### Perform API Calls\n",
    "* Perform a weather check on each city using a series of successive API calls.\n",
    "* Include a print log of each city as it'sbeing processed (with the city number and city name).\n"
   ]
  },
  {
   "cell_type": "code",
   "execution_count": 20,
   "metadata": {},
   "outputs": [
    {
     "name": "stdout",
     "output_type": "stream",
     "text": [
      "6151455 saleaula\n",
      "6151455 naftah\n",
      "1507390 mixtepec\n",
      "4031742 barentsburg\n",
      "3445487 maneadero\n",
      "8010472 taolanaro\n",
      "1792592 illoqqortoormiut\n",
      "3896218 labutta\n",
      "4021858 belushya guba\n",
      "1733782 attawapiskat\n",
      "2121197 artyk\n",
      "779622 dinsor\n",
      "2065176 tabiauea\n",
      "699986 bargal\n",
      "2126199 sentyabrskiy\n",
      "2120047 berbera\n",
      "3421982 bantry\n",
      "5924351 barawe\n",
      "3924895 louisbourg\n",
      "1513157 maarianhamina\n",
      "6089404 monatele\n",
      "4011743 mys shmidta\n",
      "1529484 vaitupu\n",
      "2127060 bengkulu\n",
      "5847411 ijaki\n",
      "2271968 inderborskiy\n",
      "7626384 amderma\n",
      "757718 grand river south east\n",
      "1655124 tsihombe\n",
      "4975802 mutsamudu\n",
      "4975802 barbar\n",
      "1174872 jibuti\n",
      "2064550 bentiu\n",
      "1636308 nizhneyansk\n",
      "2377457 moyo\n",
      "2039557 santa eulalia del rio\n",
      "6320062 toungoo\n",
      "4220862 sakakah\n",
      "6301965 ikole\n",
      "6301965 buqayq\n",
      "3455051 samusu\n",
      "6111867 rawah\n",
      "3838859 sahrak\n",
      "1067565 tubruq\n",
      "3427833 pousat\n",
      "2314705 sorvag\n",
      "1786657 marcona\n",
      "5969025 kristiinankaupunki\n",
      "576317 umzimvubu\n",
      "576317 kuche\n",
      "2517750 dzhusaly\n",
      "3899695 aflu\n",
      "2164422 longlac\n",
      "2164422 asau\n",
      "3220813 palabuhanratu\n",
      "1683425 krasnoselkup\n",
      "1683425 kamenskoye\n",
      "6167817 phnum penh\n",
      "2123979 svetlyy\n",
      "2969157 mormugao\n",
      "2969157 khonuu\n",
      "1578500 babanusah\n",
      "3081752 duz\n",
      "3081752 kismayo\n",
      "884814 fort saint john\n",
      "3894426 stornoway\n"
     ]
    }
   ],
   "source": [
    "#URL syntax for OpenWeather api call\n",
    "ow_url = \"http://api.openweathermap.org/data/2.5/weather?units=Imperial&APPID=\" + api_key \n",
    "#will need additional URL for loop querying by city id + city\n",
    "\n",
    "#placeholders for loop retrievals\n",
    "city_num = []\n",
    "city_name = []\n",
    "countries = []\n",
    "date = []\n",
    "max_temp = []\n",
    "humidity = []\n",
    "windy = []\n",
    "cloudy = []\n",
    "latitude=[]\n",
    "longitude =[]\n",
    "\n",
    "#using city in citipy cities list, query openweather via api call syntax to obtain and hold weather data for each\n",
    "for city in cities:\n",
    "    data = requests.get(ow_url).json()\n",
    "    #create query url\n",
    "    ow_query_url = \"http://api.openweathermap.org/data/2.5/weather?units=Imperial&APPID=\" + api_key + \"&q=\" + city\n",
    "    response = requests.get(ow_query_url).json()\n",
    "    \n",
    "    try:  \n",
    "        city_id = response['id']\n",
    "        city_num.append(city_id)\n",
    "        citynm = response['name']\n",
    "        city_name.append(citynm)\n",
    "        today_date = response['dt']\n",
    "        date.append(today_date)\n",
    "        country_code = response['sys']['country']\n",
    "        countries.append(country_code)\n",
    "        temp = response['main']['temp_max']\n",
    "        max_temp.append(temp)\n",
    "        hum = response['main']['humidity']\n",
    "        humidity.append(hum)\n",
    "        wind = response['wind']['speed']\n",
    "        windy.append(wind)\n",
    "        cloud = response['clouds']['all']\n",
    "        cloudy.append(cloud)\n",
    "        lat = response['coord']['lat']\n",
    "        latitude.append(lat)\n",
    "        lng = response['coord']['lon']\n",
    "        longitude.append(lng)\n",
    "\n",
    "    except KeyError:\n",
    "        print(city_id, city)"
   ]
  },
  {
   "cell_type": "markdown",
   "metadata": {},
   "source": [
    "### Convert Raw Data to DataFrame\n",
    "* Export the city data into a .csv.\n",
    "* Display the DataFrame"
   ]
  },
  {
   "cell_type": "code",
   "execution_count": 21,
   "metadata": {},
   "outputs": [
    {
     "data": {
      "text/plain": [
       "City          551\n",
       "Cloudiness    551\n",
       "Country       551\n",
       "Date          551\n",
       "Humidity      551\n",
       "Lat           551\n",
       "Lng           551\n",
       "Max Temp      551\n",
       "Wind Speed    551\n",
       "dtype: int64"
      ]
     },
     "execution_count": 21,
     "metadata": {},
     "output_type": "execute_result"
    }
   ],
   "source": [
    "# Create a data frame to capture city, latitude, temperature (f), humidity (%), cloudiness (%) and windspeed (mph); check loop totals\n",
    "city_weather_df = pd.DataFrame({\"City\": city_name, \"Cloudiness\": cloudy,\"Country\": countries, \"Date\": date, \"Humidity\": humidity, \"Lat\": latitude,\"Lng\": longitude, \"Max Temp\": max_temp, \"Wind Speed\": windy})\n",
    "city_weather_df.count()"
   ]
  },
  {
   "cell_type": "code",
   "execution_count": 22,
   "metadata": {},
   "outputs": [
    {
     "data": {
      "text/html": [
       "<div>\n",
       "<style scoped>\n",
       "    .dataframe tbody tr th:only-of-type {\n",
       "        vertical-align: middle;\n",
       "    }\n",
       "\n",
       "    .dataframe tbody tr th {\n",
       "        vertical-align: top;\n",
       "    }\n",
       "\n",
       "    .dataframe thead th {\n",
       "        text-align: right;\n",
       "    }\n",
       "</style>\n",
       "<table border=\"1\" class=\"dataframe\">\n",
       "  <thead>\n",
       "    <tr style=\"text-align: right;\">\n",
       "      <th></th>\n",
       "      <th>City</th>\n",
       "      <th>Cloudiness</th>\n",
       "      <th>Country</th>\n",
       "      <th>Date</th>\n",
       "      <th>Humidity</th>\n",
       "      <th>Lat</th>\n",
       "      <th>Lng</th>\n",
       "      <th>Max Temp</th>\n",
       "      <th>Wind Speed</th>\n",
       "    </tr>\n",
       "  </thead>\n",
       "  <tbody>\n",
       "    <tr>\n",
       "      <th>0</th>\n",
       "      <td>Arkhangelsk</td>\n",
       "      <td>75</td>\n",
       "      <td>RU</td>\n",
       "      <td>1568652847</td>\n",
       "      <td>87</td>\n",
       "      <td>64.54</td>\n",
       "      <td>40.54</td>\n",
       "      <td>46.40</td>\n",
       "      <td>2.24</td>\n",
       "    </tr>\n",
       "    <tr>\n",
       "      <th>1</th>\n",
       "      <td>Banjar</td>\n",
       "      <td>100</td>\n",
       "      <td>ID</td>\n",
       "      <td>1568652848</td>\n",
       "      <td>91</td>\n",
       "      <td>-7.37</td>\n",
       "      <td>108.54</td>\n",
       "      <td>71.95</td>\n",
       "      <td>1.68</td>\n",
       "    </tr>\n",
       "    <tr>\n",
       "      <th>2</th>\n",
       "      <td>Rikitea</td>\n",
       "      <td>0</td>\n",
       "      <td>PF</td>\n",
       "      <td>1568652848</td>\n",
       "      <td>69</td>\n",
       "      <td>-23.12</td>\n",
       "      <td>-134.97</td>\n",
       "      <td>67.99</td>\n",
       "      <td>20.07</td>\n",
       "    </tr>\n",
       "    <tr>\n",
       "      <th>3</th>\n",
       "      <td>Mar del Plata</td>\n",
       "      <td>99</td>\n",
       "      <td>AR</td>\n",
       "      <td>1568652848</td>\n",
       "      <td>32</td>\n",
       "      <td>-46.43</td>\n",
       "      <td>-67.52</td>\n",
       "      <td>58.09</td>\n",
       "      <td>30.24</td>\n",
       "    </tr>\n",
       "    <tr>\n",
       "      <th>4</th>\n",
       "      <td>Mataura</td>\n",
       "      <td>97</td>\n",
       "      <td>NZ</td>\n",
       "      <td>1568652848</td>\n",
       "      <td>88</td>\n",
       "      <td>-46.19</td>\n",
       "      <td>168.86</td>\n",
       "      <td>39.99</td>\n",
       "      <td>7.00</td>\n",
       "    </tr>\n",
       "  </tbody>\n",
       "</table>\n",
       "</div>"
      ],
      "text/plain": [
       "            City  Cloudiness Country        Date  Humidity    Lat     Lng  \\\n",
       "0    Arkhangelsk          75      RU  1568652847        87  64.54   40.54   \n",
       "1         Banjar         100      ID  1568652848        91  -7.37  108.54   \n",
       "2        Rikitea           0      PF  1568652848        69 -23.12 -134.97   \n",
       "3  Mar del Plata          99      AR  1568652848        32 -46.43  -67.52   \n",
       "4        Mataura          97      NZ  1568652848        88 -46.19  168.86   \n",
       "\n",
       "   Max Temp  Wind Speed  \n",
       "0     46.40        2.24  \n",
       "1     71.95        1.68  \n",
       "2     67.99       20.07  \n",
       "3     58.09       30.24  \n",
       "4     39.99        7.00  "
      ]
     },
     "execution_count": 22,
     "metadata": {},
     "output_type": "execute_result"
    }
   ],
   "source": [
    "city_weather_df = pd.DataFrame({\"City\": city_name, \"Cloudiness\": cloudy,\"Country\": countries, \"Date\": date, \"Humidity\": humidity, \"Lat\": latitude,\"Lng\": longitude, \"Max Temp\": max_temp, \"Wind Speed\": windy})\n",
    "city_weather_df.head()"
   ]
  },
  {
   "cell_type": "code",
   "execution_count": 23,
   "metadata": {},
   "outputs": [],
   "source": [
    "#export dataframe to csv\n",
    "city_weather_df = city_weather_df.dropna()\n",
    "city_weather_df.to_csv('../data/output_data_file.csv')"
   ]
  },
  {
   "cell_type": "code",
   "execution_count": 25,
   "metadata": {},
   "outputs": [
    {
     "ename": "TypeError",
     "evalue": "to_html() got an unexpected keyword argument 'colSpace'",
     "output_type": "error",
     "traceback": [
      "\u001b[1;31m---------------------------------------------------------------------------\u001b[0m",
      "\u001b[1;31mTypeError\u001b[0m                                 Traceback (most recent call last)",
      "\u001b[1;32m<ipython-input-25-01ad855e3157>\u001b[0m in \u001b[0;36m<module>\u001b[1;34m\u001b[0m\n\u001b[0;32m      1\u001b[0m \u001b[1;31m#export dataframe to html\u001b[0m\u001b[1;33m\u001b[0m\u001b[1;33m\u001b[0m\u001b[1;33m\u001b[0m\u001b[0m\n\u001b[1;32m----> 2\u001b[1;33m \u001b[0mcity_weather_df\u001b[0m\u001b[1;33m.\u001b[0m\u001b[0mto_html\u001b[0m\u001b[1;33m(\u001b[0m\u001b[0mbuf\u001b[0m\u001b[1;33m=\u001b[0m\u001b[1;32mNone\u001b[0m\u001b[1;33m,\u001b[0m \u001b[0mcolumns\u001b[0m\u001b[1;33m=\u001b[0m\u001b[1;32mNone\u001b[0m\u001b[1;33m,\u001b[0m \u001b[0mcol_space\u001b[0m\u001b[1;33m=\u001b[0m\u001b[1;32mNone\u001b[0m\u001b[1;33m,\u001b[0m \u001b[0mcolSpace\u001b[0m\u001b[1;33m=\u001b[0m\u001b[1;32mNone\u001b[0m\u001b[1;33m,\u001b[0m \u001b[0mheader\u001b[0m\u001b[1;33m=\u001b[0m\u001b[1;32mTrue\u001b[0m\u001b[1;33m,\u001b[0m \u001b[0mindex\u001b[0m\u001b[1;33m=\u001b[0m\u001b[1;32mTrue\u001b[0m\u001b[1;33m,\u001b[0m \u001b[0mna_rep\u001b[0m\u001b[1;33m=\u001b[0m\u001b[1;34m'NaN'\u001b[0m\u001b[1;33m,\u001b[0m \u001b[0mformatters\u001b[0m\u001b[1;33m=\u001b[0m\u001b[1;32mNone\u001b[0m\u001b[1;33m,\u001b[0m \u001b[0mfloat_format\u001b[0m\u001b[1;33m=\u001b[0m\u001b[1;32mNone\u001b[0m\u001b[1;33m,\u001b[0m \u001b[0msparsify\u001b[0m\u001b[1;33m=\u001b[0m\u001b[1;32mNone\u001b[0m\u001b[1;33m,\u001b[0m \u001b[0mindex_names\u001b[0m\u001b[1;33m=\u001b[0m\u001b[1;32mTrue\u001b[0m\u001b[1;33m,\u001b[0m \u001b[0mjustify\u001b[0m\u001b[1;33m=\u001b[0m\u001b[1;32mNone\u001b[0m\u001b[1;33m,\u001b[0m \u001b[0mbold_rows\u001b[0m\u001b[1;33m=\u001b[0m\u001b[1;32mTrue\u001b[0m\u001b[1;33m,\u001b[0m \u001b[0mclasses\u001b[0m\u001b[1;33m=\u001b[0m\u001b[1;32mNone\u001b[0m\u001b[1;33m,\u001b[0m \u001b[0mescape\u001b[0m\u001b[1;33m=\u001b[0m\u001b[1;32mTrue\u001b[0m\u001b[1;33m,\u001b[0m \u001b[0mmax_rows\u001b[0m\u001b[1;33m=\u001b[0m\u001b[1;32mNone\u001b[0m\u001b[1;33m,\u001b[0m \u001b[0mmax_cols\u001b[0m\u001b[1;33m=\u001b[0m\u001b[1;32mNone\u001b[0m\u001b[1;33m,\u001b[0m \u001b[0mshow_dimensions\u001b[0m\u001b[1;33m=\u001b[0m\u001b[1;32mFalse\u001b[0m\u001b[1;33m,\u001b[0m \u001b[0mnotebook\u001b[0m\u001b[1;33m=\u001b[0m\u001b[1;32mFalse\u001b[0m\u001b[1;33m)\u001b[0m\u001b[1;33m\u001b[0m\u001b[1;33m\u001b[0m\u001b[0m\n\u001b[0m",
      "\u001b[1;31mTypeError\u001b[0m: to_html() got an unexpected keyword argument 'colSpace'"
     ]
    }
   ],
   "source": [
    "#export dataframe to html\n",
    "city_weather_df.to_html(buf=None, columns=None, col_space=None, header=True, index=True, na_rep='NaN', formatters=None, float_format=None, sparsify=None, index_names=True, justify=None, bold_rows=True, classes=None, escape=True, max_rows=None, max_cols=None, show_dimensions=False, notebook=False)"
   ]
  },
  {
   "cell_type": "markdown",
   "metadata": {},
   "source": [
    "# Plotting the Data\n",
    "#Use proper labeling of the plots using plot titles (including date of analysis) and axes labels.\n",
    "#Save the plotted figures as .pngs."
   ]
  },
  {
   "cell_type": "code",
   "execution_count": null,
   "metadata": {},
   "outputs": [],
   "source": [
    "#Your objective is to build a series of scatter plots to showcase the following relationships\n",
    "\n",
    "#assign date and time to scatterplot analyses\n",
    "import time\n",
    "here_and_now = time.ctime(today_date)\n",
    "print(here_and_now)"
   ]
  },
  {
   "cell_type": "markdown",
   "metadata": {},
   "source": [
    "# Latitude vs. Temperature Plot"
   ]
  },
  {
   "cell_type": "code",
   "execution_count": null,
   "metadata": {},
   "outputs": [],
   "source": [
    "#Temperature (F) vs. Latitude\n",
    "plt.scatter(latitude, max_temp, marker=\"^\", facecolors=\"red\", alpha=0.75)\n",
    "plt.grid(linestyle='-')\n",
    "x_lim = 100\n",
    "plt.title(\"City Latitude Vs. Max Temperature\" + \" \" +\"(\"+ here_and_now+\")\")\n",
    "plt.xlabel(\"Latitude\")\n",
    "plt.ylabel(\"Max Temperature (F)\")\n",
    "\n",
    "#save plot to a .png file\n",
    "plt.savefig(\"../results/City_latitude_Vs_Max_Temperature.png\")\n",
    "plt.show()"
   ]
  },
  {
   "cell_type": "code",
   "execution_count": null,
   "metadata": {},
   "outputs": [],
   "source": [
    "#save above plot to a .png file\n",
    "plt.savefig(\"../Results/City_latitude_Vs_Max_Temperature.png\")\n",
    "#have to run plt.show() again or image will not render in .png\n",
    "plt.show()"
   ]
  },
  {
   "cell_type": "markdown",
   "metadata": {},
   "source": [
    "# Latitude vs. Humidity Plot"
   ]
  },
  {
   "cell_type": "code",
   "execution_count": null,
   "metadata": {},
   "outputs": [],
   "source": [
    "#Humidity (%) vs. Latitude\n",
    "plt.scatter(latitude, humidity, marker=\"P\", facecolors=\"orange\", alpha=0.75)\n",
    "plt.grid(linestyle='-')\n",
    "x_lim = 100\n",
    "plt.title(\"City Latitude Vs. Humidity\" + \" \" +\"(\"+ here_and_now+\")\")\n",
    "plt.xlabel(\"Latitude\")\n",
    "plt.ylabel(\"Humidity (%)\")\n",
    "\n",
    "plt.savefig(\"../results/City_latitude_Vs_Humidity.png\")\n",
    "plt.show()"
   ]
  },
  {
   "cell_type": "markdown",
   "metadata": {},
   "source": [
    "# Latitude vs. Cloudiness Plot"
   ]
  },
  {
   "cell_type": "code",
   "execution_count": null,
   "metadata": {},
   "outputs": [],
   "source": [
    "#Cloudiness (%) vs. Latitude\n",
    "plt.scatter(latitude, cloudy, marker=\"*\", facecolors=\"aqua\", alpha=0.75)\n",
    "plt.grid(linestyle='-')\n",
    "x_lim = 100\n",
    "plt.title(\"City Latitude Vs. Cloudiness\" + \" \" +\"(\"+ here_and_now+\")\")\n",
    "plt.xlabel(\"Latitude\")\n",
    "plt.ylabel(\"Cloudiness (%)\")\n",
    "\n",
    "plt.savefig(\"../results/City_latitude_Vs_Cloudiness.png\")\n",
    "plt.show()"
   ]
  },
  {
   "cell_type": "markdown",
   "metadata": {},
   "source": [
    "# Latitude vs. Wind Speed Plot"
   ]
  },
  {
   "cell_type": "code",
   "execution_count": null,
   "metadata": {},
   "outputs": [],
   "source": [
    "#Wind Speed (mph) vs. Latitude\n",
    "plt.scatter(latitude, windy, marker=\">\", facecolors=\"teal\", alpha=0.75)\n",
    "plt.grid(linestyle='-')\n",
    "x_lim = 100\n",
    "plt.title(\"City Latitude Vs. Wind Speed\" + \" \" +\"(\"+ here_and_now+\")\")\n",
    "plt.xlabel(\"Latitude\")\n",
    "plt.ylabel(\"Wind Speed (mph)\")\n",
    "\n",
    "plt.savefig(\"../results/City_latitude_Vs_Windspeed.png\")\n",
    "plt.show()"
   ]
  },
  {
   "cell_type": "markdown",
   "metadata": {},
   "source": [
    "# Findings"
   ]
  },
  {
   "cell_type": "code",
   "execution_count": null,
   "metadata": {},
   "outputs": [],
   "source": [
    "#You must include a written description of three observable trends based on the data."
   ]
  },
  {
   "cell_type": "markdown",
   "metadata": {},
   "source": [
    "--Temperature is pretty dramatically higher near and just above the equator, but it seems others of these are less significant an will change each time the api is called and the code run."
   ]
  }
 ],
 "metadata": {
  "anaconda-cloud": {},
  "kernel_info": {
   "name": "python3"
  },
  "kernelspec": {
   "display_name": "Python 36 (py36)",
   "language": "python",
   "name": "py36"
  },
  "language_info": {
   "codemirror_mode": {
    "name": "ipython",
    "version": 3
   },
   "file_extension": ".py",
   "mimetype": "text/x-python",
   "name": "python",
   "nbconvert_exporter": "python",
   "pygments_lexer": "ipython3",
   "version": "3.6.8"
  },
  "nteract": {
   "version": "0.12.3"
  }
 },
 "nbformat": 4,
 "nbformat_minor": 2
}
